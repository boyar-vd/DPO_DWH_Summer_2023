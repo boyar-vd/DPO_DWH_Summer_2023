{
 "cells": [
  {
   "cell_type": "code",
   "execution_count": null,
   "id": "f56b47b5",
   "metadata": {},
   "outputs": [],
   "source": [
    "from sqlalchemy import create_engine"
   ]
  },
  {
   "cell_type": "code",
   "execution_count": null,
   "id": "cbeba413",
   "metadata": {},
   "outputs": [],
   "source": [
    "def connection_yandex_cloud_demo(echo):\n",
    "    \"\"\"Connection to DataBase dwh\"\"\"\n",
    "    login = 'root'\n",
    "    password = 'password!!!'\n",
    "    host = 'rc1b-7ng6ih3jte3824x8.mdb.yandexcloud.net'\n",
    "    port = '6432'\n",
    "    db_name = 'demo'\n",
    "    return create_engine(f'postgresql://{login}:{password}@{host}:{port}/{db_name}', echo=echo)"
   ]
  },
  {
   "cell_type": "code",
   "execution_count": null,
   "id": "75809c82",
   "metadata": {},
   "outputs": [],
   "source": [
    "engine = connection_yandex_cloud_demo(echo=True)"
   ]
  },
  {
   "cell_type": "markdown",
   "id": "b07f75d6",
   "metadata": {},
   "source": [
    "**Оптимизация с помощью индекса**"
   ]
  },
  {
   "cell_type": "code",
   "execution_count": null,
   "id": "070e747b",
   "metadata": {},
   "outputs": [],
   "source": [
    "sql = '''\n",
    "EXPLAIN (ANALYZE) \n",
    " SELECT * \n",
    "   FROM bookings.tickets t\n",
    "  WHERE t.passenger_id = '7028 453406'\n",
    "'''\n",
    "\n",
    "engine.execute(sql).fetchall()"
   ]
  },
  {
   "cell_type": "code",
   "execution_count": null,
   "id": "7f602e91",
   "metadata": {},
   "outputs": [],
   "source": [
    "sql = '''\n",
    "EXPLAIN (ANALYZE) \n",
    " SELECT * \n",
    "   FROM bookings.tickets t\n",
    "  WHERE t.passenger_id like '%%453406'\n",
    "'''\n",
    "\n",
    "engine.execute(sql).fetchall()"
   ]
  },
  {
   "cell_type": "markdown",
   "id": "1b9ed638",
   "metadata": {},
   "source": [
    "**Создаём индекс на атрибут bookings.tickets.passenger_id**"
   ]
  },
  {
   "cell_type": "code",
   "execution_count": null,
   "id": "8da94a65",
   "metadata": {},
   "outputs": [],
   "source": [
    "sql = '''\n",
    "CREATE \n",
    " INDEX tickets_passenger_id_idx \n",
    "    ON bookings.tickets (passenger_id)\n",
    "'''\n",
    "\n",
    "engine.execute(sql)"
   ]
  },
  {
   "cell_type": "markdown",
   "id": "5929a3b9",
   "metadata": {},
   "source": [
    "**Выполним запросы после создания индекса**"
   ]
  },
  {
   "cell_type": "code",
   "execution_count": null,
   "id": "178eec95",
   "metadata": {},
   "outputs": [],
   "source": [
    "sql = '''\n",
    "EXPLAIN (ANALYZE) \n",
    " SELECT * \n",
    "   FROM bookings.tickets t\n",
    "  WHERE t.passenger_id = '7028 453406'\n",
    "'''\n",
    "\n",
    "engine.execute(sql).fetchall()"
   ]
  },
  {
   "cell_type": "code",
   "execution_count": null,
   "id": "99a7d92d",
   "metadata": {},
   "outputs": [],
   "source": [
    "sql = '''\n",
    "EXPLAIN (ANALYZE) \n",
    " SELECT * \n",
    "   FROM bookings.tickets t\n",
    "  WHERE t.passenger_id like '%%453406'\n",
    "'''\n",
    "\n",
    "engine.execute(sql).fetchall()"
   ]
  },
  {
   "cell_type": "markdown",
   "id": "61eb8623",
   "metadata": {},
   "source": [
    "**Выполним запрос к таблице flights и сделаем фильтрацию по двум атрибутам**"
   ]
  },
  {
   "cell_type": "code",
   "execution_count": null,
   "id": "7f28fd15",
   "metadata": {},
   "outputs": [],
   "source": [
    "sql = '''\n",
    "EXPLAIN (ANALYZE) \n",
    " SELECT * \n",
    "   FROM bookings.flights f\n",
    "  WHERE f.departure_airport = 'DME'\n",
    "    AND f.arrival_airport = 'LED'\n",
    "'''\n",
    "\n",
    "engine.execute(sql).fetchall()"
   ]
  },
  {
   "cell_type": "markdown",
   "id": "5e125e1b",
   "metadata": {},
   "source": [
    "**Создадим составной индекс**"
   ]
  },
  {
   "cell_type": "code",
   "execution_count": null,
   "id": "859e2c34",
   "metadata": {},
   "outputs": [],
   "source": [
    "sql = '''\n",
    "CREATE \n",
    " INDEX flights_departure_airport_idx \n",
    "    ON bookings.flights (departure_airport,arrival_airport)\n",
    "'''\n",
    "\n",
    "engine.execute(sql)"
   ]
  },
  {
   "cell_type": "code",
   "execution_count": null,
   "id": "f39e1766",
   "metadata": {},
   "outputs": [],
   "source": [
    "sql = '''\n",
    "EXPLAIN (ANALYZE) \n",
    " SELECT * \n",
    "   FROM bookings.flights f\n",
    "  WHERE f.departure_airport != 'DME'\n",
    "    AND f.arrival_airport = 'LED'\n",
    "'''\n",
    "\n",
    "engine.execute(sql).fetchall()"
   ]
  },
  {
   "cell_type": "markdown",
   "id": "afd436c0",
   "metadata": {},
   "source": [
    "**Допустим, нам необходимо забирать данные за предыдущий день о совершенных полётах**"
   ]
  },
  {
   "cell_type": "code",
   "execution_count": null,
   "id": "2f7d8410",
   "metadata": {},
   "outputs": [],
   "source": [
    "sql = '''\n",
    "EXPLAIN (ANALYZE)\n",
    " SELECT * \n",
    "   FROM bookings.flights f \n",
    "  WHERE DATE(f.actual_departure) = '2017-09-06'\n",
    "'''\n",
    "\n",
    "engine.execute(sql).fetchall()"
   ]
  },
  {
   "cell_type": "markdown",
   "id": "64cba5ea",
   "metadata": {},
   "source": [
    "**Создадим индекс на колонку с датой отправления**"
   ]
  },
  {
   "cell_type": "code",
   "execution_count": null,
   "id": "dc8a6013",
   "metadata": {},
   "outputs": [],
   "source": [
    "sql = '''\n",
    "CREATE INDEX flights_actual_departure_idx ON bookings.flights (actual_departure)\n",
    "'''\n",
    "\n",
    "engine.execute(sql)"
   ]
  },
  {
   "cell_type": "markdown",
   "id": "6e19e0d7",
   "metadata": {},
   "source": [
    "**Проверим, ускорился ли наш запрос**"
   ]
  },
  {
   "cell_type": "code",
   "execution_count": null,
   "id": "f5b16590",
   "metadata": {},
   "outputs": [],
   "source": [
    "sql = '''\n",
    "EXPLAIN (ANALYZE)\n",
    " SELECT * \n",
    "   FROM bookings.flights f \n",
    "  WHERE DATE(f.actual_departure) > '2017-09-06'\n",
    "'''\n",
    "\n",
    "engine.execute(sql).fetchall()"
   ]
  },
  {
   "cell_type": "markdown",
   "id": "52f5422a",
   "metadata": {},
   "source": [
    "**UNION vs UNION ALL**"
   ]
  },
  {
   "cell_type": "code",
   "execution_count": null,
   "id": "b8fb85fc",
   "metadata": {},
   "outputs": [],
   "source": [
    "sql = '''\n",
    "EXPLAIN (ANALYZE) \n",
    " SELECT * \n",
    "   FROM bookings.flights f\n",
    "  WHERE f.scheduled_departure < '2017-01-01 00:00:00.000 +0300'\n",
    " UNION\n",
    " SELECT * \n",
    "   FROM bookings.flights f2\n",
    "  WHERE f2.scheduled_departure >= '2017-01-01 00:00:00.000 +0300'\n",
    "'''\n",
    "\n",
    "engine.execute(sql).fetchall()"
   ]
  },
  {
   "cell_type": "code",
   "execution_count": null,
   "id": "68eaaeb3",
   "metadata": {},
   "outputs": [],
   "source": [
    "sql = '''\n",
    "EXPLAIN (ANALYZE) \n",
    " SELECT * \n",
    "   FROM bookings.flights f\n",
    "  WHERE f.scheduled_departure < '2017-01-01 00:00:00.000 +0300'\n",
    " UNION ALL\n",
    " SELECT * \n",
    "   FROM bookings.flights f2\n",
    "  WHERE f2.scheduled_departure >= '2017-01-01 00:00:00.000 +0300'\n",
    "'''\n",
    "\n",
    "engine.execute(sql).fetchall()"
   ]
  },
  {
   "cell_type": "markdown",
   "id": "d63a27cc",
   "metadata": {},
   "source": [
    "**Временные таблицы**"
   ]
  },
  {
   "cell_type": "code",
   "execution_count": null,
   "id": "221303b6",
   "metadata": {},
   "outputs": [],
   "source": [
    "sql = '''\n",
    "EXPLAIN (ANALYSE)\n",
    "SELECT f.*\n",
    "      ,tf.ticket_no\n",
    "      ,tf.fare_conditions \n",
    "      ,tf.amount \n",
    "FROM bookings.flights f\n",
    "JOIN bookings.ticket_flights tf ON tf.flight_id = f.flight_id \n",
    "'''\n",
    "\n",
    "engine.execute(sql).fetchall()"
   ]
  },
  {
   "cell_type": "markdown",
   "id": "5c297cb0",
   "metadata": {},
   "source": [
    "**Создаём временную таблицу**"
   ]
  },
  {
   "cell_type": "code",
   "execution_count": null,
   "id": "9c8dd741",
   "metadata": {},
   "outputs": [],
   "source": [
    "sql = '''\n",
    "CREATE TEMPORARY TABLE ticket_flights_materialized AS \n",
    "SELECT f.*\n",
    "      ,tf.ticket_no\n",
    "      ,tf.fare_conditions \n",
    "      ,tf.amount \n",
    "  FROM bookings.flights f\n",
    "  JOIN bookings.ticket_flights tf ON tf.flight_id = f.flight_id;\n",
    "'''\n",
    "\n",
    "engine.execute(sql).fetchall()"
   ]
  },
  {
   "cell_type": "markdown",
   "id": "3882e8c1",
   "metadata": {},
   "source": [
    "**Сделаем запрос к веременной таблице**"
   ]
  },
  {
   "cell_type": "code",
   "execution_count": null,
   "id": "cf329b85",
   "metadata": {},
   "outputs": [],
   "source": [
    "sql = '''\n",
    "EXPLAIN (ANALYSE)\n",
    " SELECT tfm.*\n",
    "   FROM ticket_flights_materialized tfm;\n",
    "'''\n",
    "\n",
    "engine.execute(sql).fetchall()"
   ]
  }
 ],
 "metadata": {
  "kernelspec": {
   "display_name": "Python 3 (ipykernel)",
   "language": "python",
   "name": "python3"
  },
  "language_info": {
   "codemirror_mode": {
    "name": "ipython",
    "version": 3
   },
   "file_extension": ".py",
   "mimetype": "text/x-python",
   "name": "python",
   "nbconvert_exporter": "python",
   "pygments_lexer": "ipython3",
   "version": "3.9.13"
  }
 },
 "nbformat": 4,
 "nbformat_minor": 5
}
