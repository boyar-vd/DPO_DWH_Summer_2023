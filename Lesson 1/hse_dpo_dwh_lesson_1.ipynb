{
 "cells": [
  {
   "cell_type": "markdown",
   "id": "6c620e3d",
   "metadata": {},
   "source": [
    "*Импортируем библиотеки*"
   ]
  },
  {
   "cell_type": "code",
   "execution_count": 1,
   "id": "26888741",
   "metadata": {},
   "outputs": [],
   "source": [
    "import pandas as pd\n",
    "pd.set_option('display.max_columns', None)\n",
    "\n",
    "import warnings\n",
    "warnings.filterwarnings('ignore')"
   ]
  },
  {
   "cell_type": "markdown",
   "id": "2034f50e",
   "metadata": {},
   "source": [
    "*Загружаем данные*"
   ]
  },
  {
   "cell_type": "code",
   "execution_count": 29,
   "id": "dc190211",
   "metadata": {},
   "outputs": [],
   "source": [
    "df = pd.read_csv('fraud_short.csv')"
   ]
  },
  {
   "cell_type": "markdown",
   "id": "cb36a576",
   "metadata": {},
   "source": [
    "*Посмотрим на датасет*"
   ]
  },
  {
   "cell_type": "code",
   "execution_count": 30,
   "id": "6976062f",
   "metadata": {},
   "outputs": [
    {
     "data": {
      "text/plain": [
       "(265340, 24)"
      ]
     },
     "execution_count": 30,
     "metadata": {},
     "output_type": "execute_result"
    }
   ],
   "source": [
    "df.shape"
   ]
  },
  {
   "cell_type": "code",
   "execution_count": 25,
   "id": "e54d67eb",
   "metadata": {},
   "outputs": [],
   "source": [
    "df_short = df[df['is_fraud']==0].sample(frac=0.10, random_state=42).append(df[df['is_fraud']==1])"
   ]
  },
  {
   "cell_type": "code",
   "execution_count": 26,
   "id": "2739df54",
   "metadata": {},
   "outputs": [
    {
     "data": {
      "text/plain": [
       "(136423, 23)"
      ]
     },
     "execution_count": 26,
     "metadata": {},
     "output_type": "execute_result"
    }
   ],
   "source": [
    "df_short.shape"
   ]
  },
  {
   "cell_type": "code",
   "execution_count": 27,
   "id": "17808ddb",
   "metadata": {},
   "outputs": [],
   "source": [
    "df_short.to_csv('fraud_short_10.csv')"
   ]
  }
 ],
 "metadata": {
  "kernelspec": {
   "display_name": "Python 3 (ipykernel)",
   "language": "python",
   "name": "python3"
  },
  "language_info": {
   "codemirror_mode": {
    "name": "ipython",
    "version": 3
   },
   "file_extension": ".py",
   "mimetype": "text/x-python",
   "name": "python",
   "nbconvert_exporter": "python",
   "pygments_lexer": "ipython3",
   "version": "3.9.13"
  }
 },
 "nbformat": 4,
 "nbformat_minor": 5
}
