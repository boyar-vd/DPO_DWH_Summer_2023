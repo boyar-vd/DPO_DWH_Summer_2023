{
 "cells": [
  {
   "cell_type": "markdown",
   "id": "6c620e3d",
   "metadata": {},
   "source": [
    "*Импортируем библиотеки*"
   ]
  },
  {
   "cell_type": "code",
   "execution_count": 1,
   "id": "26888741",
   "metadata": {},
   "outputs": [],
   "source": [
    "import pandas as pd\n",
    "pd.set_option('display.max_columns', None)\n",
    "\n",
    "import warnings\n",
    "warnings.filterwarnings('ignore')"
   ]
  },
  {
   "cell_type": "markdown",
   "id": "2034f50e",
   "metadata": {},
   "source": [
    "*Распаковываем и загружаем данные*"
   ]
  },
  {
   "cell_type": "code",
   "execution_count": null,
   "id": "cd1c421b",
   "metadata": {},
   "outputs": [],
   "source": [
    "import zipfile\n",
    "with zipfile.ZipFile('data/fraud.csv.zip', 'r') as archive:\n",
    "    archive.extractall('data/')"
   ]
  },
  {
   "cell_type": "code",
   "execution_count": 2,
   "id": "dc190211",
   "metadata": {},
   "outputs": [],
   "source": [
    "df = pd.read_csv('data/fraud.csv')"
   ]
  },
  {
   "cell_type": "markdown",
   "id": "cb36a576",
   "metadata": {},
   "source": [
    "*Посмотрим на датасет*"
   ]
  },
  {
   "cell_type": "code",
   "execution_count": null,
   "id": "6976062f",
   "metadata": {},
   "outputs": [],
   "source": [
    "# code here"
   ]
  },
  {
   "cell_type": "markdown",
   "id": "964f5231",
   "metadata": {},
   "source": [
    "*Удалим незначащие столбцы*"
   ]
  },
  {
   "cell_type": "code",
   "execution_count": null,
   "id": "17808ddb",
   "metadata": {},
   "outputs": [],
   "source": [
    "# code here"
   ]
  },
  {
   "cell_type": "markdown",
   "id": "40d15673",
   "metadata": {},
   "source": [
    "*Посмотрим на пропуски и типы данных*"
   ]
  },
  {
   "cell_type": "code",
   "execution_count": null,
   "id": "499a380d",
   "metadata": {},
   "outputs": [],
   "source": [
    "# code here"
   ]
  },
  {
   "cell_type": "markdown",
   "id": "c8934b0e",
   "metadata": {},
   "source": [
    "*Посмотрим распределение мошеннических операций*"
   ]
  },
  {
   "cell_type": "code",
   "execution_count": null,
   "id": "c81cfe8b",
   "metadata": {},
   "outputs": [],
   "source": [
    "# code here"
   ]
  },
  {
   "cell_type": "markdown",
   "id": "e661e10e",
   "metadata": {},
   "source": [
    "### Задание\n",
    "\n",
    "Вводные:\n",
    "- Новый источник данных - результат разметки транзакционных данных на мошеннические и легальные операции.\n",
    "\n",
    "Необходимо:\n",
    "- Проанализировать данные;\n",
    "- Описать структуру для загрузки данных;\n",
    "- Придумать, как мы можем использовать эти данные.\n",
    "\n",
    "Для этого:\n",
    "- Проанализировать данные (на наличие пропусков и тд.);\n",
    "- Сформировать таблицу в слое \"сырых\" данных для загрузки csv;\n",
    "- Загрузить данные с слой \"сырых\" данных;\n",
    "- Выделить сущности, которые присутствуют в данных. Составить ER-диаграмму слоя детализированных данных;\n",
    "- Придумать 2-3 способа применения полученых данных: какую аналитику мы можем над ними построить и визуализировать в дашбордах? К примеру:\n",
    "    - Построение колоночной диаграммы распределения мошеннических транзакций по городам;\n",
    "    - График: количество мошеннических и легальных транзакций в день (представление: date||fraud_transactions||legal_transactions);\n",
    "-  Описать представление (view), которое могло бы использоваться для построение дашборда по предыдущему пункту."
   ]
  },
  {
   "cell_type": "markdown",
   "id": "139986a8",
   "metadata": {},
   "source": [
    "*1) Создаем подключение к БД*"
   ]
  },
  {
   "cell_type": "code",
   "execution_count": 3,
   "id": "d5492473",
   "metadata": {},
   "outputs": [],
   "source": [
    "from sqlalchemy import create_engine"
   ]
  },
  {
   "cell_type": "code",
   "execution_count": 4,
   "id": "7c2c977a",
   "metadata": {},
   "outputs": [],
   "source": [
    "def connection_yandex_cloud_dwh(echo):\n",
    "    \"\"\"Connection to DataBase dwh\"\"\"\n",
    "    login = 'student'\n",
    "    password = 'student!'\n",
    "    host = 'rc1b-7ng6ih3jte3824x8.mdb.yandexcloud.net'\n",
    "    port = '6432'\n",
    "    db_name = 'dwh'\n",
    "    return create_engine(f'postgresql://{login}:{password}@{host}:{port}/{db_name}', echo=echo)"
   ]
  },
  {
   "cell_type": "code",
   "execution_count": 5,
   "id": "5993a88f",
   "metadata": {},
   "outputs": [],
   "source": [
    "engine = connection_yandex_cloud_dwh(echo=True)"
   ]
  },
  {
   "cell_type": "markdown",
   "id": "9d44df8f",
   "metadata": {},
   "source": [
    "*2) Загружаем данные в слой \"сырых\" данных*"
   ]
  },
  {
   "cell_type": "code",
   "execution_count": null,
   "id": "f50d463c",
   "metadata": {},
   "outputs": [],
   "source": [
    "?df.to_sql"
   ]
  },
  {
   "cell_type": "code",
   "execution_count": 6,
   "id": "8a484160",
   "metadata": {},
   "outputs": [
    {
     "name": "stdout",
     "output_type": "stream",
     "text": [
      "2023-07-19 20:44:55,962 INFO sqlalchemy.engine.Engine select pg_catalog.version()\n",
      "2023-07-19 20:44:55,966 INFO sqlalchemy.engine.Engine [raw sql] {}\n",
      "2023-07-19 20:44:55,996 INFO sqlalchemy.engine.Engine select current_schema()\n",
      "2023-07-19 20:44:55,997 INFO sqlalchemy.engine.Engine [raw sql] {}\n",
      "2023-07-19 20:44:56,028 INFO sqlalchemy.engine.Engine show standard_conforming_strings\n",
      "2023-07-19 20:44:56,029 INFO sqlalchemy.engine.Engine [raw sql] {}\n",
      "2023-07-19 20:44:56,059 INFO sqlalchemy.engine.Engine select relname from pg_class c join pg_namespace n on n.oid=c.relnamespace where n.nspname=%(schema)s and relname=%(name)s\n",
      "2023-07-19 20:44:56,061 INFO sqlalchemy.engine.Engine [generated in 0.00126s] {'schema': 'RAW', 'name': 'table_test'}\n",
      "2023-07-19 20:44:56,111 INFO sqlalchemy.engine.Engine BEGIN (implicit)\n",
      "2023-07-19 20:44:56,180 INFO sqlalchemy.engine.Engine \n",
      "CREATE TABLE \"RAW\".table_test (\n",
      "\tindex BIGINT, \n",
      "\t\"Unnamed: 0.1\" BIGINT, \n",
      "\t\"Unnamed: 0\" BIGINT, \n",
      "\ttrans_date_trans_time TEXT, \n",
      "\tcc_num BIGINT, \n",
      "\tmerchant TEXT, \n",
      "\tcategory TEXT, \n",
      "\tamt FLOAT(53), \n",
      "\tfirst TEXT, \n",
      "\tlast TEXT, \n",
      "\tgender TEXT, \n",
      "\tstreet TEXT, \n",
      "\tcity TEXT, \n",
      "\tstate TEXT, \n",
      "\tzip BIGINT, \n",
      "\tlat FLOAT(53), \n",
      "\tlong FLOAT(53), \n",
      "\tcity_pop BIGINT, \n",
      "\tjob TEXT, \n",
      "\tdob TEXT, \n",
      "\ttrans_num TEXT, \n",
      "\tunix_time BIGINT, \n",
      "\tmerch_lat FLOAT(53), \n",
      "\tmerch_long FLOAT(53), \n",
      "\tis_fraud BIGINT\n",
      ")\n",
      "\n",
      "\n",
      "2023-07-19 20:44:56,181 INFO sqlalchemy.engine.Engine [no key 0.00075s] {}\n",
      "2023-07-19 20:44:56,227 INFO sqlalchemy.engine.Engine CREATE INDEX \"ix_RAW_table_test_index\" ON \"RAW\".table_test (index)\n",
      "2023-07-19 20:44:56,228 INFO sqlalchemy.engine.Engine [no key 0.00096s] {}\n",
      "2023-07-19 20:44:56,248 INFO sqlalchemy.engine.Engine COMMIT\n",
      "2023-07-19 20:44:56,505 INFO sqlalchemy.engine.Engine BEGIN (implicit)\n",
      "2023-07-19 20:45:01,376 INFO sqlalchemy.engine.Engine INSERT INTO \"RAW\".table_test (index, \"Unnamed: 0.1\", \"Unnamed: 0\", trans_date_trans_time, cc_num, merchant, category, amt, first, last, gender, street, city, state, zip, lat, long, city_pop, job, dob, trans_num, unix_time, merch_lat, merch_long, is_fraud) VALUES (%(index)s, %(UnnamedC 0.1)s, %(UnnamedC 0)s, %(trans_date_trans_time)s, %(cc_num)s, %(merchant)s, %(category)s, %(amt)s, %(first)s, %(last)s, %(gender)s, %(street)s, %(city)s, %(state)s, %(zip)s, %(lat)s, %(long)s, %(city_pop)s, %(job)s, %(dob)s, %(trans_num)s, %(unix_time)s, %(merch_lat)s, %(merch_long)s, %(is_fraud)s)\n",
      "2023-07-19 20:45:01,378 INFO sqlalchemy.engine.Engine [generated in 4.25104s] ({'index': 0, 'UnnamedC 0.1': 811778, 'UnnamedC 0': 811778, 'trans_date_trans_time': '2019-12-07 10:55:06', 'cc_num': 676173792455, 'merchant': 'fraud_Zieme, Bode and Dooley', 'category': 'gas_transport', 'amt': 86.19, 'first': 'Brittany', 'last': 'Cox', 'gender': 'F', 'street': '07177 William Dale Apt. 547', 'city': 'Santa Monica', 'state': 'CA', 'zip': 90403, 'lat': 34.0287, 'long': -118.4924, 'city_pop': 92043, 'job': 'Civil engineer, contracting', 'dob': '1961-04-25', 'trans_num': 'f32d1f4b2a918f4c2f6acdc83033ee35', 'unix_time': 1354877706, 'merch_lat': 33.287851, 'merch_long': -118.74097, 'is_fraud': 0}, {'index': 1, 'UnnamedC 0.1': 1101718, 'UnnamedC 0': 1101718, 'trans_date_trans_time': '2020-04-03 13:10:06', 'cc_num': 30518206766474, 'merchant': 'fraud_Lind-Buckridge', 'category': 'entertainment', 'amt': 85.81, 'first': 'Tamara', 'last': 'Martinez', 'gender': 'F', 'street': '471 Marquez Prairie Suite 680', 'city': 'Matthews', 'state': 'MO', 'zip': 63867, 'lat': 36.7154, 'long': -89.6287, 'city_pop': 1019, 'job': 'Aeronautical engineer', 'dob': '1979-01-26', 'trans_num': 'f5dad8e2d7c39d81502d846a20286659', 'unix_time': 1364994606, 'merch_lat': 36.53995, 'merch_long': -89.857416, 'is_fraud': 0}, {'index': 2, 'UnnamedC 0.1': 800013, 'UnnamedC 0': 800013, 'trans_date_trans_time': '2019-12-04 07:07:04', 'cc_num': 4658490815480264, 'merchant': 'fraud_Hackett-Lueilwitz', 'category': 'grocery_pos', 'amt': 99.3, 'first': 'Tara', 'last': 'Richards', 'gender': 'F', 'street': '4879 Cristina Station', 'city': 'Keisterville', 'state': 'PA', 'zip': 15449, 'lat': 39.9636, 'long': -79.7853, 'city_pop': 184, 'job': 'Systems developer', 'dob': '1945-11-04', 'trans_num': '1d023bc78ab93ab65a35bbb53bcc67bd', 'unix_time': 1354604824, 'merch_lat': 39.582872, 'merch_long': -78.83855, 'is_fraud': 0}, {'index': 3, 'UnnamedC 0.1': 398945, 'UnnamedC 0': 398945, 'trans_date_trans_time': '2019-06-30 18:43:08', 'cc_num': 4716561796955522, 'merchant': 'fraud_Lynch-Wisozk', 'category': 'home', 'amt': 42.09, 'first': 'Lauren', 'last': 'Anderson', 'gender': 'F', 'street': '11014 Chad Lake Apt. 573', 'city': 'Heart Butte', 'state': 'MT', 'zip': 59448, 'lat': 48.2777, 'long': -112.8456, 'city_pop': 743, 'job': 'Water engineer', 'dob': '1972-05-04', 'trans_num': 'dbf6c06d3277438afdf7af883fb4285f', 'unix_time': 1341081788, 'merch_lat': 48.310513, 'merch_long': -112.837535, 'is_fraud': 0}, {'index': 4, 'UnnamedC 0.1': 207455, 'UnnamedC 0': 207455, 'trans_date_trans_time': '2019-04-15 19:57:49', 'cc_num': 3528407217576457, 'merchant': 'fraud_Fisher-Schowalter', 'category': 'shopping_net', 'amt': 4.24, 'first': 'Patricia', 'last': 'Leach', 'gender': 'F', 'street': '71309 Martinez Stravenue', 'city': 'Kingsport', 'state': 'TN', 'zip': 37663, 'lat': 36.4715, 'long': -82.4834, 'city_pop': 87124, 'job': 'Warden/ranger', 'dob': '1987-02-14', 'trans_num': '88814660aba0101b174e1e8137f4a7af', 'unix_time': 1334519869, 'merch_lat': 37.329094, 'merch_long': -82.070746, 'is_fraud': 0}, {'index': 5, 'UnnamedC 0.1': 564452, 'UnnamedC 0': 564452, 'trans_date_trans_time': '2019-08-28 11:18:46', 'cc_num': 4855488158131690372, 'merchant': 'fraud_Christiansen, Goyette and Schamberger', 'category': 'gas_transport', 'amt': 72.75, 'first': 'Jeremy', 'last': 'Roberson', 'gender': 'M', 'street': '25887 Martin Inlet', 'city': 'Graniteville', 'state': 'VT', 'zip': 5654, 'lat': 44.1554, 'long': -72.4847, 'city_pop': 970, 'job': 'Agricultural consultant', 'dob': '1993-09-29', 'trans_num': '484eff81bd47131f12977154047c4a60', 'unix_time': 1346152726, 'merch_lat': 43.168748, 'merch_long': -72.740002, 'is_fraud': 0}, {'index': 6, 'UnnamedC 0.1': 347018, 'UnnamedC 0': 347018, 'trans_date_trans_time': '2019-06-12 06:05:00', 'cc_num': 4979422371139333, 'merchant': 'fraud_Watsica, Haag and Considine', 'category': 'shopping_pos', 'amt': 7.87, 'first': 'Kelly', 'last': 'Zimmerman', 'gender': 'F', 'street': '1893 Katie Tunnel', 'city': 'Westerville', 'state': 'NE', 'zip': 68881, 'lat': 41.4193, 'long': -99.3844, 'city_pop': 73, 'job': 'Product designer', 'dob': '1935-02-10', 'trans_num': '671655ebb10aa252a395c71c0bcbf2ef', 'unix_time': 1339481100, 'merch_lat': 41.528425, 'merch_long': -99.368091, 'is_fraud': 0}, {'index': 7, 'UnnamedC 0.1': 245997, 'UnnamedC 0': 245997, 'trans_date_trans_time': '2019-05-03 16:49:24', 'cc_num': 5456776410929288, 'merchant': 'fraud_Metz, Russel and Metz', 'category': 'kids_pets', 'amt': 5.53, 'first': 'Taylor', 'last': 'Khan', 'gender': 'F', 'street': '658 Diane Glen Apt. 677', 'city': 'North Washington', 'state': 'PA', 'zip': 16048, 'lat': 41.0472, 'long': -79.8089, 'city_pop': 139, 'job': 'Patent attorney', 'dob': '1954-05-25', 'trans_num': '997e7001922aefa064ff3459b7b6035c', 'unix_time': 1336063764, 'merch_lat': 40.146899, 'merch_long': -79.386339, 'is_fraud': 0}  ... displaying 10 of 265340 total bound parameter sets ...  {'index': 265338, 'UnnamedC 0.1': 1295666, 'UnnamedC 0': 1295666, 'trans_date_trans_time': '2020-06-21 03:26:20', 'cc_num': 3560725013359375, 'merchant': 'fraud_Corwin-Collins', 'category': 'gas_transport', 'amt': 21.69, 'first': 'Brooke', 'last': 'Smith', 'gender': 'F', 'street': '63542 Luna Brook Apt. 012', 'city': 'Notrees', 'state': 'TX', 'zip': 79759, 'lat': 31.8599, 'long': -102.7413, 'city_pop': 23, 'job': 'Cytogeneticist', 'dob': '1969-09-15', 'trans_num': 'daa281350b1e16093c7b4bf97bf4d6ed', 'unix_time': 1371785180, 'merch_lat': 32.675272, 'merch_long': -103.484949, 'is_fraud': 1}, {'index': 265339, 'UnnamedC 0.1': 1295733, 'UnnamedC 0': 1295733, 'trans_date_trans_time': '2020-06-21 03:59:46', 'cc_num': 4005676619255478, 'merchant': 'fraud_Koss and Sons', 'category': 'gas_transport', 'amt': 10.2, 'first': 'William', 'last': 'Perry', 'gender': 'M', 'street': '458 Phillips Island Apt. 768', 'city': 'Denham Springs', 'state': 'LA', 'zip': 70726, 'lat': 30.459, 'long': -90.9027, 'city_pop': 71335, 'job': 'Herbalist', 'dob': '1994-05-31', 'trans_num': '0c1c20470fc0d16019b5c368cadf563a', 'unix_time': 1371787186, 'merch_lat': 31.363252000000003, 'merch_long': -89.932309, 'is_fraud': 1})\n"
     ]
    },
    {
     "name": "stdout",
     "output_type": "stream",
     "text": [
      "2023-07-19 20:45:43,527 INFO sqlalchemy.engine.Engine COMMIT\n"
     ]
    },
    {
     "data": {
      "text/plain": [
       "340"
      ]
     },
     "execution_count": 6,
     "metadata": {},
     "output_type": "execute_result"
    }
   ],
   "source": [
    "df.to_sql(name='table_test'\n",
    "         ,con=engine\n",
    "         ,schema='RAW'\n",
    "         ,if_exists='replace'\n",
    "         ,index=True)"
   ]
  },
  {
   "cell_type": "code",
   "execution_count": null,
   "id": "f05eabba",
   "metadata": {},
   "outputs": [],
   "source": []
  },
  {
   "cell_type": "code",
   "execution_count": 1,
   "id": "215a8843",
   "metadata": {},
   "outputs": [],
   "source": [
    "input_list = [1, 2, 3, 4, 5]"
   ]
  },
  {
   "cell_type": "code",
   "execution_count": 6,
   "id": "be3dc22b",
   "metadata": {},
   "outputs": [],
   "source": [
    "mapped_list = list(map(lambda x: x ** 2, input_list))"
   ]
  },
  {
   "cell_type": "code",
   "execution_count": 14,
   "id": "b9ef2131",
   "metadata": {},
   "outputs": [
    {
     "name": "stdout",
     "output_type": "stream",
     "text": [
      "mapped_list: [1, 4, 9, 16, 25]\n"
     ]
    }
   ],
   "source": [
    "print('mapped_list:', mapped_list)"
   ]
  },
  {
   "cell_type": "code",
   "execution_count": 10,
   "id": "cbc47155",
   "metadata": {},
   "outputs": [],
   "source": [
    "reduced_value = sum(mapped_list)"
   ]
  },
  {
   "cell_type": "code",
   "execution_count": 15,
   "id": "147940e7",
   "metadata": {},
   "outputs": [
    {
     "name": "stdout",
     "output_type": "stream",
     "text": [
      "reduced_value: 55\n"
     ]
    }
   ],
   "source": [
    "print('reduced_value:', reduced_value)"
   ]
  }
 ],
 "metadata": {
  "kernelspec": {
   "display_name": "Python 3 (ipykernel)",
   "language": "python",
   "name": "python3"
  },
  "language_info": {
   "codemirror_mode": {
    "name": "ipython",
    "version": 3
   },
   "file_extension": ".py",
   "mimetype": "text/x-python",
   "name": "python",
   "nbconvert_exporter": "python",
   "pygments_lexer": "ipython3",
   "version": "3.9.13"
  }
 },
 "nbformat": 4,
 "nbformat_minor": 5
}
